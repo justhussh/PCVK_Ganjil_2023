{
  "nbformat": 4,
  "nbformat_minor": 0,
  "metadata": {
    "colab": {
      "provenance": [],
      "authorship_tag": "ABX9TyMXa74N4Fe/wiGcnglEysXA",
      "include_colab_link": true
    },
    "kernelspec": {
      "name": "python3",
      "display_name": "Python 3"
    },
    "language_info": {
      "name": "python"
    }
  },
  "cells": [
    {
      "cell_type": "markdown",
      "metadata": {
        "id": "view-in-github",
        "colab_type": "text"
      },
      "source": [
        "<a href=\"https://colab.research.google.com/github/justhussh/PCVK_Ganjil_2023/blob/main/Week3.ipynb\" target=\"_parent\"><img src=\"https://colab.research.google.com/assets/colab-badge.svg\" alt=\"Open In Colab\"/></a>"
      ]
    },
    {
      "cell_type": "markdown",
      "source": [
        "# Modul 3"
      ],
      "metadata": {
        "id": "lSad_3st0A79"
      }
    },
    {
      "cell_type": "markdown",
      "source": [
        "Akses folder images pada Google Drive Anda dengan kode berikut:"
      ],
      "metadata": {
        "id": "dyIyguUu0K2R"
      }
    },
    {
      "cell_type": "code",
      "execution_count": 1,
      "metadata": {
        "colab": {
          "base_uri": "https://localhost:8080/"
        },
        "id": "xIaJI0brz1vl",
        "outputId": "be6788fe-d096-4dbc-ec6c-ef80c4e4409c"
      },
      "outputs": [
        {
          "output_type": "stream",
          "name": "stdout",
          "text": [
            "Mounted at /content/drive\n"
          ]
        }
      ],
      "source": [
        "from google.colab import drive\n",
        "drive.mount('/content/drive')"
      ]
    },
    {
      "cell_type": "markdown",
      "source": [
        "Ikuti alur autorisasinya hingga muncul pesan: “Mounted at /content/drive”."
      ],
      "metadata": {
        "id": "iZjBaMfh0V-5"
      }
    },
    {
      "cell_type": "markdown",
      "source": [
        "Melakukan transformasi linier brightness dengan memasukkan nilai konstanta tertentu dan\n",
        "menghasilkan warna. Seperti yang telah dibahas pada ulasan teori, formula untuk melakukan\n",
        "transformasi linier brightness adalah sebagai berikut:\n",
        "\n",
        "𝑔(𝑥, 𝑦) = 𝑓(𝑥, 𝑦) + 𝑏\n",
        "\n",
        "dimana g(x,y) adalah nilai pixel setelah transformasi, f(x,y) adalah nilai pixel asli, dan b adalah\n",
        "nilai brightness.\n",
        "Tuliskan potongan kode berikut untuk mengimplementasikan linier brightness pada google\n",
        "colab:\n"
      ],
      "metadata": {
        "id": "2EkqJ1Ih0YNm"
      }
    },
    {
      "cell_type": "code",
      "source": [
        "import numpy as np\n",
        "import pandas as pd\n",
        "import cv2 as cv\n",
        "from google.colab.patches import cv2_imshow\n",
        "from skimage import io\n",
        "from skimage import transform\n",
        "from PIL import Image\n",
        "import matplotlib.pylab as plt\n",
        "print ('Mengubah Tingkat Kecerahan Citra')\n",
        "print ('================================')\n",
        "try:\n",
        "  brightness = int(input('Masukkan nilai kecerahan : '))\n",
        "except ValueError:\n",
        "  print('error, not a number')\n",
        "\n",
        "original = cv.imread('/content/drive/MyDrive/PCVK/female.tiff')\n",
        "brightness_image = np.zeros(original.shape, original.dtype)\n",
        "\n",
        "#akses per pixel\n",
        "for y in range(original.shape[0]):\n",
        "  for x in range(original.shape[1]):\n",
        "    for c in range(original.shape[2]):\n",
        "      brightness_image[y,x,c] = np.clip(original[y,x,c] + brightness, 0, 255)\n",
        "\n",
        "#cara simple tanpa for loop\n",
        "#brightness_image = cv.convertScaleAbs(original, beta-brightness)\n",
        "\n",
        "final_frame = cv.hconcat((original, brightness_image))\n",
        "cv2_imshow(final_frame)"
      ],
      "metadata": {
        "colab": {
          "base_uri": "https://localhost:8080/",
          "height": 308
        },
        "id": "fENfJIp50bRt",
        "outputId": "51255eb3-beb7-4e17-c83d-edcbfc2d4415"
      },
      "execution_count": 2,
      "outputs": [
        {
          "name": "stdout",
          "output_type": "stream",
          "text": [
            "mengubah tingkat kecerahan citra\n",
            "--------------------------------\n",
            "masukkan nilai kecerahan : 5\n"
          ]
        },
        {
          "output_type": "error",
          "ename": "AttributeError",
          "evalue": "ignored",
          "traceback": [
            "\u001b[0;31m---------------------------------------------------------------------------\u001b[0m",
            "\u001b[0;31mAttributeError\u001b[0m                            Traceback (most recent call last)",
            "\u001b[0;32m<ipython-input-2-b29650421eec>\u001b[0m in \u001b[0;36m<cell line: 17>\u001b[0;34m()\u001b[0m\n\u001b[1;32m     15\u001b[0m \u001b[0;34m\u001b[0m\u001b[0m\n\u001b[1;32m     16\u001b[0m \u001b[0moriginal\u001b[0m \u001b[0;34m=\u001b[0m \u001b[0mcv\u001b[0m\u001b[0;34m.\u001b[0m\u001b[0mimread\u001b[0m\u001b[0;34m(\u001b[0m\u001b[0;34m'/content/drive/MyDrive/PCVK/female.tiff'\u001b[0m\u001b[0;34m)\u001b[0m\u001b[0;34m\u001b[0m\u001b[0;34m\u001b[0m\u001b[0m\n\u001b[0;32m---> 17\u001b[0;31m \u001b[0mbrightness_image\u001b[0m \u001b[0;34m=\u001b[0m \u001b[0mnp\u001b[0m\u001b[0;34m.\u001b[0m\u001b[0mzeros\u001b[0m\u001b[0;34m(\u001b[0m\u001b[0moriginal\u001b[0m\u001b[0;34m.\u001b[0m\u001b[0mshape\u001b[0m\u001b[0;34m,\u001b[0m \u001b[0moriginal\u001b[0m\u001b[0;34m.\u001b[0m\u001b[0mdtype\u001b[0m\u001b[0;34m)\u001b[0m\u001b[0;34m\u001b[0m\u001b[0;34m\u001b[0m\u001b[0m\n\u001b[0m\u001b[1;32m     18\u001b[0m \u001b[0;34m\u001b[0m\u001b[0m\n\u001b[1;32m     19\u001b[0m \u001b[0;31m#akses per pixel\u001b[0m\u001b[0;34m\u001b[0m\u001b[0;34m\u001b[0m\u001b[0m\n",
            "\u001b[0;31mAttributeError\u001b[0m: 'NoneType' object has no attribute 'shape'"
          ]
        }
      ]
    },
    {
      "cell_type": "markdown",
      "source": [
        "Dari potongan kode di atas dapat dilihat bahwa ketika dijalankan, system akan menampilkan text\n",
        "field untuk memasukkan konstanta nilai brightness yang diinginkan, dan akan disimpan pada\n",
        "variabel brightness. Kemudian ditentukan citra pada drive yang akan diolah dan ditampung di\n",
        "variabel original. Tahap selanjutnya adalah mengakses pixel citra masukan dengan 3 perulangan.\n",
        "Perulangan pertama dilakukan pada shape[0] untuk tinggi citra, perulangan kedua dilakukan pada\n",
        "shape[1] untuk lebar citra, dan perulangan ketiga dilakukan pada shape[2] yang merupakan\n",
        "channel warna pada citra. Setelah melakukan 3 perulangan, dilakukan transformasi linier\n",
        "brightness dengan cara menambahkan nilai brightness pada citra masukan. Contoh hasil dari\n",
        "kode program di atas adalah sebagai berikut."
      ],
      "metadata": {
        "id": "BFyDOGcQPGxe"
      }
    },
    {
      "cell_type": "markdown",
      "source": [
        "## **Tugas Praktikum**"
      ],
      "metadata": {
        "id": "9SdfYzEfPJPQ"
      }
    },
    {
      "cell_type": "markdown",
      "source": [
        "1. Implementasikan inverse citra pada Google Colaboratory menggunakan formula yang\n",
        "terdapat pada bagian Ulasan Teori, sehingga menghasilkan keluaran seperti berikut:"
      ],
      "metadata": {
        "id": "f3miIMKDPK_I"
      }
    },
    {
      "cell_type": "code",
      "source": [
        "monki = cv.imread('/content/drive/MyDrive/PCVK/mandrill.tiff')\n",
        "height, width, channels = monki.shape\n",
        "inverted_monki = np.copy(monki)\n",
        "\n",
        "for i in range(channels):\n",
        "    inverted_monki[:, :, i] = 255 - inverted_monki[:, :, i]\n",
        "\n",
        "frame1 = cv.hconcat((monki, inverted_monki))\n",
        "cv2_imshow(frame1)"
      ],
      "metadata": {
        "id": "D1H_V3f_PNI_"
      },
      "execution_count": null,
      "outputs": []
    },
    {
      "cell_type": "markdown",
      "source": [
        "2. Implementasikan transformasi contrast pada Google Colaboratory menggunakan\n",
        "formula yang terdapat pada bagian Ulasan Teori untuk kontras, sehingga\n",
        "menghasilkan keluaran seperti berikut:"
      ],
      "metadata": {
        "id": "mzTB_HRkPP84"
      }
    },
    {
      "cell_type": "code",
      "source": [
        "# kecerahan\n",
        "print ('mengubah tingkat kecerahan')\n",
        "print ('--------------------------------')\n",
        "try:\n",
        "  brightness = int(input('masukkan nilai kecerahan : '))\n",
        "except ValueError:\n",
        "  print('error, not a number')\n",
        "\n",
        "#kontras\n",
        "print ('mengubah tingkat kecerahan citra')\n",
        "print ('--------------------------------')\n",
        "try:\n",
        "  contrast = float(input('masukkan nilai kontras : '))\n",
        "except ValueError:\n",
        "  print('error, not a number')\n",
        "\n",
        "# mengubah kecerahana dan kontras berdasarkan inputan\n",
        "fm = cv.imread('/content/drive/MyDrive/PCVK/female.tiff')\n",
        "adjusted_fm = cv.convertScaleAbs(fm, alpha=contrast, beta=brightness)\n",
        "\n",
        "frame2 = cv.hconcat((fm, adjusted_fm))\n",
        "cv2_imshow(frame2)"
      ],
      "metadata": {
        "id": "AyF6UKejPQtz"
      },
      "execution_count": null,
      "outputs": []
    },
    {
      "cell_type": "markdown",
      "source": [
        "3. Implementasikan transformasi logarithmic brightness pada Google Colaboratory\n",
        "menggunakan formula yang terdapat pada bagian Ulasan Teori untuk transformasi\n",
        "log, sehingga menghasilkan keluaran seperti berikut:"
      ],
      "metadata": {
        "id": "IwB5wT43PTho"
      }
    },
    {
      "cell_type": "code",
      "source": [
        "print(' Mengubah tingkat kecerahan citra dengan Transformasi Log')\n",
        "print('----------------------------------------------')\n",
        "\n",
        "try:\n",
        "  brightness = int(input('Masukkan nilai kecerahan:'))\n",
        "except ValueError:\n",
        "  print('Error, not a number')\n",
        "\n",
        "fm1 = cv.imread('/content/drive/MyDrive/PCVK/female.tiff')\n",
        "brightness_image = np.zeros(fm1.shape, fm1.dtype)\n",
        "\n",
        "for y in range(fm1.shape[0]):\n",
        "  for x in range(fm1.shape[1]):\n",
        "    for c in range(fm1.shape[2]):\n",
        "      brightness_image[y,x,c] = np.clip(brightness*  (np.log(1 + fm1[y,x,c])), 0 , 255)\n",
        "\n",
        "final_frame = cv.hconcat((fm1, brightness_image))\n",
        "cv2_imshow(final_frame)"
      ],
      "metadata": {
        "id": "W-bLIlCSPUQs"
      },
      "execution_count": null,
      "outputs": []
    },
    {
      "cell_type": "markdown",
      "source": [
        "4. Implementasikan transformasi grayscale menggunakan metode averaging, lightness,\n",
        "dan luminance pada Google Colaboratory menggunakan formula yang terdapat pada\n",
        "bagian Ulasan Teori, sehingga menghasilkan keluaran seperti berikut:"
      ],
      "metadata": {
        "id": "i3h74kBcPVta"
      }
    },
    {
      "cell_type": "markdown",
      "source": [
        "- Averaging"
      ],
      "metadata": {
        "id": "QSEr97gtPYqB"
      }
    },
    {
      "cell_type": "code",
      "source": [
        "monki1a = cv.imread('/content/drive/MyDrive/PCVK/mandrill.tiff')\n",
        "grayscale_monki1a = cv.cvtColor(monki1a, cv.COLOR_BGR2GRAY)\n",
        "fig, (original, gray_monki1a) = plt.subplots(1, 2, figsize=(12, 5))\n",
        "\n",
        "original.imshow(cv.cvtColor(monki1a, cv.COLOR_BGR2RGB))\n",
        "gray_monki1a.imshow(grayscale_monki1a, cmap='gray')\n",
        "\n",
        "plt.show()"
      ],
      "metadata": {
        "id": "ySw7LMeHPXU_"
      },
      "execution_count": null,
      "outputs": []
    },
    {
      "cell_type": "markdown",
      "source": [
        "- Lightness"
      ],
      "metadata": {
        "id": "YdhrN6f2PcwD"
      }
    },
    {
      "cell_type": "code",
      "source": [
        "monki1b = cv.imread('/content/drive/MyDrive/PCVK/mandrill.tiff')\n",
        "hls_monki = cv.cvtColor(monki1b, cv.COLOR_BGR2HLS)\n",
        "l_channel = hls_monki[:, :, 1]\n",
        "fig, (original, ltmonki) = plt.subplots(1, 2, figsize=(12, 5))\n",
        "\n",
        "original.imshow(cv.cvtColor(monki1b, cv.COLOR_BGR2RGB))\n",
        "ltmonki.imshow(l_channel, cmap='gray')\n",
        "\n",
        "plt.show()"
      ],
      "metadata": {
        "id": "Btj4FFB_Pega"
      },
      "execution_count": null,
      "outputs": []
    },
    {
      "cell_type": "markdown",
      "source": [
        "- Luminance"
      ],
      "metadata": {
        "id": "mXPvHFWDPf_t"
      }
    },
    {
      "cell_type": "code",
      "source": [
        "monki1c = cv.imread('/content/drive/MyDrive/PCVK/mandrill.tiff')\n",
        "yuv_monki = cv.cvtColor(monki1c, cv.COLOR_BGR2YUV)\n",
        "y_channel = yuv_monki[:, :, 0]\n",
        "fig, (original, lmmonki) = plt.subplots(1, 2, figsize=(12, 5))\n",
        "\n",
        "original.imshow(cv.cvtColor(monki1c, cv.COLOR_BGR2RGB))\n",
        "lmmonki.imshow(y_channel, cmap='gray')\n",
        "\n",
        "plt.show()"
      ],
      "metadata": {
        "id": "YAZMNKrpPhiU"
      },
      "execution_count": null,
      "outputs": []
    },
    {
      "cell_type": "markdown",
      "source": [
        "5. Tampilkanlah warna tertentu pada citra, dan ubah warna lain menjadi grayscale. Misal,\n",
        "tampilkan warna biru pada citra masukan dan ubah bagian lain yang tidak berwarna\n",
        "biru menjadi grayscale seperti pada contoh berikut:"
      ],
      "metadata": {
        "id": "sjQhNG6EPjvK"
      }
    },
    {
      "cell_type": "code",
      "source": [
        "bro = cv.imread('/content/drive/MyDrive/PCVK/mandrill.tiff')\n",
        "bro_rgb = cv.cvtColor(bro, cv.COLOR_BGR2RGB)\n",
        "\n",
        "lower_yellow = np.array([150, 150, 0], dtype=np.uint8)\n",
        "upper_yellow = np.array([255, 255, 100], dtype=np.uint8)\n",
        "mask_yellow = cv.inRange(bro_rgb, lower_yellow, upper_yellow)\n",
        "\n",
        "# invers mask kuning (kuning menjadi putih, latar belakang menjadi hitam)\n",
        "mask_yellow_inv = cv.bitwise_not(mask_yellow)\n",
        "\n",
        "# mengubah background menjadi gray\n",
        "gray = cv.cvtColor(bro, cv.COLOR_BGR2GRAY)\n",
        "bro = cv.cvtColor(gray, cv.COLOR_GRAY2BGR)\n",
        "\n",
        "# menggabungkan gambar kuning dan background\n",
        "out = cv.bitwise_and(bro_rgb, bro_rgb, mask=mask_yellow)\n",
        "out_bg = cv.bitwise_and(bro, bro, mask=mask_yellow_inv)\n",
        "result = cv.add(out, out_bg)\n",
        "\n",
        "fig, ax = plt.subplots(1, 2)\n",
        "ax[0].imshow(bro_rgb)\n",
        "ax[1].imshow(result)\n",
        "plt.show()"
      ],
      "metadata": {
        "id": "8U2p3_8gPkyC"
      },
      "execution_count": null,
      "outputs": []
    }
  ]
}